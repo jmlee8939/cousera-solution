{
 "cells": [
  {
   "cell_type": "markdown",
   "metadata": {},
   "source": [
    "---\n",
    "\n",
    "_You are currently looking at **version 1.1** of this notebook. To download notebooks and datafiles, as well as get help on Jupyter notebooks in the Coursera platform, visit the [Jupyter Notebook FAQ](https://www.coursera.org/learn/python-data-analysis/resources/0dhYG) course resource._\n",
    "\n",
    "---"
   ]
  },
  {
   "cell_type": "code",
   "execution_count": 1,
   "metadata": {
    "collapsed": true
   },
   "outputs": [],
   "source": [
    "import pandas as pd\n",
    "import numpy as np\n",
    "from scipy.stats import ttest_ind"
   ]
  },
  {
   "cell_type": "markdown",
   "metadata": {},
   "source": [
    "# Assignment 4 - Hypothesis Testing\n",
    "This assignment requires more individual learning than previous assignments - you are encouraged to check out the [pandas documentation](http://pandas.pydata.org/pandas-docs/stable/) to find functions or methods you might not have used yet, or ask questions on [Stack Overflow](http://stackoverflow.com/) and tag them as pandas and python related. And of course, the discussion forums are open for interaction with your peers and the course staff.\n",
    "\n",
    "Definitions:\n",
    "* A _quarter_ is a specific three month period, Q1 is January through March, Q2 is April through June, Q3 is July through September, Q4 is October through December.\n",
    "* A _recession_ is defined as starting with two consecutive quarters of GDP decline, and ending with two consecutive quarters of GDP growth.\n",
    "* A _recession bottom_ is the quarter within a recession which had the lowest GDP.\n",
    "* A _university town_ is a city which has a high percentage of university students compared to the total population of the city.\n",
    "\n",
    "**Hypothesis**: University towns have their mean housing prices less effected by recessions. Run a t-test to compare the ratio of the mean price of houses in university towns the quarter before the recession starts compared to the recession bottom. (`price_ratio=quarter_before_recession/recession_bottom`)\n",
    "\n",
    "The following data files are available for this assignment:\n",
    "* From the [Zillow research data site](http://www.zillow.com/research/data/) there is housing data for the United States. In particular the datafile for [all homes at a city level](http://files.zillowstatic.com/research/public/City/City_Zhvi_AllHomes.csv), ```City_Zhvi_AllHomes.csv```, has median home sale prices at a fine grained level.\n",
    "* From the Wikipedia page on college towns is a list of [university towns in the United States](https://en.wikipedia.org/wiki/List_of_college_towns#College_towns_in_the_United_States) which has been copy and pasted into the file ```university_towns.txt```.\n",
    "* From Bureau of Economic Analysis, US Department of Commerce, the [GDP over time](http://www.bea.gov/national/index.htm#gdp) of the United States in current dollars (use the chained value in 2009 dollars), in quarterly intervals, in the file ```gdplev.xls```. For this assignment, only look at GDP data from the first quarter of 2000 onward.\n",
    "\n",
    "Each function in this assignment below is worth 10%, with the exception of ```run_ttest()```, which is worth 50%."
   ]
  },
  {
   "cell_type": "code",
   "execution_count": null,
   "metadata": {
    "collapsed": true
   },
   "outputs": [],
   "source": [
    "# Use this dictionary to map state names to two letter acronyms\n",
    "states = {'OH': 'Ohio', 'KY': 'Kentucky', 'AS': 'American Samoa', 'NV': 'Nevada', 'WY': 'Wyoming', 'NA': 'National', 'AL': 'Alabama', 'MD': 'Maryland', 'AK': 'Alaska', 'UT': 'Utah', 'OR': 'Oregon', 'MT': 'Montana', 'IL': 'Illinois', 'TN': 'Tennessee', 'DC': 'District of Columbia', 'VT': 'Vermont', 'ID': 'Idaho', 'AR': 'Arkansas', 'ME': 'Maine', 'WA': 'Washington', 'HI': 'Hawaii', 'WI': 'Wisconsin', 'MI': 'Michigan', 'IN': 'Indiana', 'NJ': 'New Jersey', 'AZ': 'Arizona', 'GU': 'Guam', 'MS': 'Mississippi', 'PR': 'Puerto Rico', 'NC': 'North Carolina', 'TX': 'Texas', 'SD': 'South Dakota', 'MP': 'Northern Mariana Islands', 'IA': 'Iowa', 'MO': 'Missouri', 'CT': 'Connecticut', 'WV': 'West Virginia', 'SC': 'South Carolina', 'LA': 'Louisiana', 'KS': 'Kansas', 'NY': 'New York', 'NE': 'Nebraska', 'OK': 'Oklahoma', 'FL': 'Florida', 'CA': 'California', 'CO': 'Colorado', 'PA': 'Pennsylvania', 'DE': 'Delaware', 'NM': 'New Mexico', 'RI': 'Rhode Island', 'MN': 'Minnesota', 'VI': 'Virgin Islands', 'NH': 'New Hampshire', 'MA': 'Massachusetts', 'GA': 'Georgia', 'ND': 'North Dakota', 'VA': 'Virginia'}"
   ]
  },
  {
   "cell_type": "code",
   "execution_count": 2,
   "metadata": {
    "collapsed": true,
    "umich_part_id": "021",
    "umich_partlist_id": "004"
   },
   "outputs": [],
   "source": [
    "def get_list_of_university_towns():\n",
    "    data=open('university_towns.txt')\n",
    "    Collegetowns=data.readlines()\n",
    "    university_towns=list()\n",
    "    for line in Collegetowns:\n",
    "        if 'edit' in line:\n",
    "            state=line.split('[')[0]\n",
    "            continue\n",
    "        RegionName=line.split('(')[0].rstrip()\n",
    "        university_towns.append([state, RegionName])\n",
    "    university_towns=pd.DataFrame(university_towns)\n",
    "    university_towns.columns=['State','RegionName']\n",
    "    return university_towns"
   ]
  },
  {
   "cell_type": "code",
   "execution_count": 1,
   "metadata": {
    "collapsed": true,
    "umich_part_id": "022",
    "umich_partlist_id": "004"
   },
   "outputs": [],
   "source": [
    "def get_recession_start():\n",
    "    GDP=pd.read_excel('gdplev.xls',skiprows=5)\n",
    "    GDP=GDP[['Unnamed: 4','GDP in billions of chained 2009 dollars.1']]\n",
    "    GDP=GDP.dropna()\n",
    "    GDP=GDP[GDP['Unnamed: 4']>='2000q1']\n",
    "    GDP.columns=['period','GDP']\n",
    "    lis=list(GDP['GDP'])\n",
    "    del lis[0]\n",
    "    lis.append(None)\n",
    "    GDP['diff']=lis\n",
    "    GDP['diff']=GDP['GDP']-GDP['diff']\n",
    "    lis = list()\n",
    "    n=len(GDP)\n",
    "    st=0\n",
    "    for i in range(n-1):\n",
    "        a = GDP.iloc[i]\n",
    "        b = GDP.iloc[i+1]\n",
    "        if a['diff'] > 0 and b['diff']> 0:\n",
    "            if st == 0 or i > (st+3):\n",
    "                st = i\n",
    "                lis.append(b['period'])\n",
    "    return lis[0]"
   ]
  },
  {
   "cell_type": "code",
   "execution_count": null,
   "metadata": {
    "collapsed": true,
    "umich_part_id": "023",
    "umich_partlist_id": "004"
   },
   "outputs": [],
   "source": [
    "def get_recession_end():\n",
    "    GDP=pd.read_excel('gdplev.xls',skiprows=5)\n",
    "    GDP=GDP[['Unnamed: 4','GDP in billions of chained 2009 dollars.1']]\n",
    "    GDP=GDP.dropna()\n",
    "    GDP=GDP[GDP['Unnamed: 4']>='2000q1']\n",
    "    GDP.columns=['period','GDP']\n",
    "    lis=list(GDP['GDP'])\n",
    "    del lis[0]\n",
    "    lis.append(None)\n",
    "    GDP['diff']=lis\n",
    "    GDP['diff']=GDP['GDP']-GDP['diff']\n",
    "    a=get_recession_start()\n",
    "    GDP=GDP[GDP['period']>=a]\n",
    "    n=len(GDP)\n",
    "    st=0\n",
    "    end = list()\n",
    "    for i in range(n-1):\n",
    "        a = GDP.iloc[i]\n",
    "        b = GDP.iloc[i+1]\n",
    "        if a['diff'] < 0 and b['diff']< 0:\n",
    "            if st ==  0:\n",
    "                st = i\n",
    "                end.append(GDP.iloc[i+2]['period'])\n",
    "    return end[0]"
   ]
  },
  {
   "cell_type": "code",
   "execution_count": null,
   "metadata": {
    "collapsed": true,
    "umich_part_id": "024",
    "umich_partlist_id": "004"
   },
   "outputs": [],
   "source": [
    "def get_recession_bottom():\n",
    "    GDP=pd.read_excel('gdplev.xls',skiprows=5)\n",
    "    GDP=GDP[['Unnamed: 4','GDP in billions of chained 2009 dollars.1']]\n",
    "    GDP=GDP.dropna()\n",
    "    GDP=GDP[GDP['Unnamed: 4']>='2000q1']\n",
    "    GDP.columns=['period','GDP']\n",
    "    lis=list(GDP['GDP'])\n",
    "    del lis[0]\n",
    "    lis.append(None)\n",
    "    GDP['diff']=lis\n",
    "    GDP['diff']=GDP['GDP']-GDP['diff']\n",
    "    a=get_recession_start()\n",
    "    b=get_recession_end()\n",
    "    GDP=GDP[(GDP['period']>=a)]\n",
    "    GDP=GDP[GDP['period']<=b]\n",
    "    return GDP.set_index('period')['GDP'].idxmin()"
   ]
  },
  {
   "cell_type": "code",
   "execution_count": null,
   "metadata": {
    "collapsed": true,
    "umich_part_id": "025",
    "umich_partlist_id": "004"
   },
   "outputs": [],
   "source": [
    "def convert_housing_data_to_quarters():\n",
    "    import pandas as pd\n",
    "    states = {'OH': 'Ohio', 'KY': 'Kentucky', 'AS': 'American Samoa', \n",
    "              'NV': 'Nevada', 'WY': 'Wyoming', 'NA': 'National',\n",
    "              'AL': 'Alabama', 'MD': 'Maryland', 'AK': 'Alaska', \n",
    "              'UT': 'Utah', 'OR': 'Oregon', 'MT': 'Montana',\n",
    "              'IL': 'Illinois', 'TN': 'Tennessee', 'DC': 'District of Columbia', \n",
    "              'VT': 'Vermont', 'ID': 'Idaho', 'AR': 'Arkansas', 'ME': 'Maine',\n",
    "              'WA': 'Washington', 'HI': 'Hawaii', 'WI': 'Wisconsin', 'MI': 'Michigan',\n",
    "              'IN': 'Indiana', 'NJ': 'New Jersey', 'AZ': 'Arizona', 'GU': 'Guam', \n",
    "              'MS': 'Mississippi', 'PR': 'Puerto Rico', 'NC': 'North Carolina', \n",
    "              'TX': 'Texas', 'SD': 'South Dakota', 'MP': 'Northern Mariana Islands',\n",
    "              'IA': 'Iowa', 'MO': 'Missouri', 'CT': 'Connecticut',\n",
    "              'WV': 'West Virginia', 'SC': 'South Carolina', 'LA': 'Louisiana',\n",
    "              'KS': 'Kansas', 'NY': 'New York', 'NE': 'Nebraska', 'OK': 'Oklahoma', \n",
    "              'FL': 'Florida', 'CA': 'California', 'CO': 'Colorado', \n",
    "              'PA': 'Pennsylvania', 'DE': 'Delaware', 'NM': 'New Mexico', \n",
    "              'RI': 'Rhode Island', 'MN': 'Minnesota', 'VI': 'Virgin Islands', \n",
    "              'NH': 'New Hampshire', 'MA': 'Massachusetts', 'GA': 'Georgia', \n",
    "              'ND': 'North Dakota', 'VA': 'Virginia'}\n",
    "    Home=pd.read_csv('City_Zhvi_AllHomes.csv')\n",
    "    Homeprice=Home[Home.columns[Home.columns >= '2000-01']]\n",
    "    Homeprice=Homeprice[Homeprice.columns[Homeprice.columns <= '2016-10']]\n",
    "    lis = list()\n",
    "    li = list()\n",
    "    for i in range(len(Homeprice.columns)//3):\n",
    "        v1 = 3*i\n",
    "        v2 = v1+3\n",
    "        y=i//4\n",
    "        year=y+2000\n",
    "        if i%4==0:\n",
    "            q = 'q1'\n",
    "        elif i%4==1:\n",
    "            q = 'q2'\n",
    "        elif i%4==2:\n",
    "            q = 'q3'\n",
    "        else : q= 'q4'\n",
    "        a='{}{}'.format(year,q)\n",
    "        li.append(a)\n",
    "        lis.append(Homeprice.iloc[:,v1:v2].mean(axis=1))\n",
    "    kk=pd.DataFrame(lis)\n",
    "    kk=kk.T\n",
    "    kk.columns=li\n",
    "    kk['2016q3']=(Home['2016-07']+Home['2016-08'])/2\n",
    "    Home=Home[['State','RegionName']]\n",
    "    Home=Home.replace({'State':states})\n",
    "    House=pd.merge(Home,kk,left_index=True,right_index=True)\n",
    "    return House.set_index(['State','RegionName'])"
   ]
  },
  {
   "cell_type": "code",
   "execution_count": 1,
   "metadata": {
    "collapsed": true,
    "umich_part_id": "026",
    "umich_partlist_id": "004"
   },
   "outputs": [],
   "source": [
    "def run_ttest():\n",
    "    rb=get_recession_bottom()\n",
    "    df=convert_housing_data_to_quarters()\n",
    "    recession_start=get_recession_start()\n",
    "    GDP=pd.read_excel('gdplev.xls',skiprows=5)\n",
    "    GDP=GDP[['Unnamed: 4','GDP in billions of chained 2009 dollars.1']]\n",
    "    GDP=GDP.dropna()\n",
    "    GDP.columns=['period','GDP']\n",
    "    qrb=GDP[GDP['period']<=recession_start].iloc[-1]['period']\n",
    "    df=df[[qrb,rb]]\n",
    "    df['price_ratio']=df['2008q3']/df['2009q2']\n",
    "    df2 = get_list_of_university_towns()\n",
    "    lis =list()\n",
    "    for i in range(len(df2)):\n",
    "        st = df2['State'].iloc[i]\n",
    "        rn = df2['RegionName'].iloc[i]\n",
    "        lis.append((rn, st))\n",
    "    df=df.reset_index()\n",
    "    lis2 = list()\n",
    "    for i in range(len(df)):\n",
    "        ab=df.iloc[i]['RegionName']\n",
    "        cd=df.iloc[i]['State']\n",
    "        lis2.append((ab, cd))\n",
    "    df['New']=lis2\n",
    "    lis3 = list()\n",
    "    for i in range(len(df)):\n",
    "        if df['New'].iloc[i] in lis:\n",
    "            lis3.append(1)\n",
    "        else : \n",
    "            lis3.append(0)\n",
    "    df['university']=lis3\n",
    "    non=df[df['university']==0]\n",
    "    univ=df[df['university']==1]\n",
    "    from scipy import stats\n",
    "    import numpy as np\n",
    "    ttes=stats.ttest_ind(non['price_ratio'], univ['price_ratio'], nan_policy='omit')\n",
    "    p=ttes[1]\n",
    "    if p <0.01:\n",
    "        different = True\n",
    "    else :\n",
    "        different = False\n",
    "    if non['price_ratio'].mean() <= univ['price_ratio'].mean():\n",
    "        better = 'non-university town'\n",
    "    else : better = 'university town'\n",
    "    return (different, p, better)"
   ]
  },
  {
   "cell_type": "code",
   "execution_count": null,
   "metadata": {
    "collapsed": true
   },
   "outputs": [],
   "source": []
  }
 ],
 "metadata": {
  "coursera": {
   "course_slug": "python-data-analysis",
   "graded_item_id": "Il9Fx",
   "launcher_item_id": "TeDW0",
   "part_id": "WGlun"
  },
  "kernelspec": {
   "display_name": "Python 3",
   "language": "python",
   "name": "python3"
  },
  "language_info": {
   "codemirror_mode": {
    "name": "ipython",
    "version": 3
   },
   "file_extension": ".py",
   "mimetype": "text/x-python",
   "name": "python",
   "nbconvert_exporter": "python",
   "pygments_lexer": "ipython3",
   "version": "3.6.2"
  },
  "umich": {
   "id": "Assignment 4",
   "version": "1.1"
  }
 },
 "nbformat": 4,
 "nbformat_minor": 1
}
